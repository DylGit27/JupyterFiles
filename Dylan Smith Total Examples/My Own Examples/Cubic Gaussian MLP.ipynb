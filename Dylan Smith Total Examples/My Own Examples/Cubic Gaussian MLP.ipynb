{
 "cells": [
  {
   "cell_type": "code",
   "execution_count": 10,
   "metadata": {},
   "outputs": [
    {
     "data": {
      "image/png": "[encoded data removed]",
      "text/plain": [
       "<matplotlib.figure.Figure at 0x1a152aa1d0>"
      ]
     },
     "metadata": {},
     "output_type": "display_data"
    },
    {
     "name": "stdout",
     "output_type": "stream",
     "text": [
      "[1 0]\n"
     ]
    },
    {
     "data": {
      "text/plain": [
       "array([[ 0.00598012,  0.99401988],\n",
       "       [ 0.00598012,  0.99401988]])"
      ]
     },
     "execution_count": 10,
     "metadata": {},
     "output_type": "execute_result"
    }
   ],
   "source": [
    "import numpy as np\n",
    "from sklearn.svm import SVR\n",
    "import matplotlib.pyplot as plt\n",
    "\n",
    "# Generate sample data\n",
    "X = np.sort(5*np.random.rand(40,1), axis=0)\n",
    "y = X**3\n",
    "y=y.ravel()\n",
    "\n",
    "# Add noise to targets\n",
    "X[::4] +=3*(0.5 - np.random.rand(1))\n",
    "y[::5] += 50 * (0.5 - np.random.rand(8))\n",
    "\n",
    "plt.plot(X,y, 'g^')\n",
    "plt.show()\n",
    "\n",
    "#neural network example from scikit-learn website\n",
    "from sklearn.neural_network import MLPClassifier\n",
    "X1=[[0., 0.], [1., 1.]]\n",
    "y1=[0,1]\n",
    "clf=MLPClassifier(solver='lbfgs', alpha=0.001, hidden_layer_sizes=(5,2), random_state=1)\n",
    "clf.fit(X1,y1)\n",
    "print (clf.predict([[2., 2.], [-1., -2.]]))\n",
    "[coef.shape for coef in clf.coefs_]\n",
    "clf.predict_proba([[2., 2.], [1., 2.]])"
   ]
  },
  {
   "cell_type": "code",
   "execution_count": null,
   "metadata": {
    "collapsed": true
   },
   "outputs": [],
   "source": []
  }
 ],
 "metadata": {
  "kernelspec": {
   "display_name": "Python 3",
   "language": "python",
   "name": "python3"
  },
  "language_info": {
   "codemirror_mode": {
    "name": "ipython",
    "version": 3
   },
   "file_extension": ".py",
   "mimetype": "text/x-python",
   "name": "python",
   "nbconvert_exporter": "python",
   "pygments_lexer": "ipython3",
   "version": "3.6.3"
  }
 },
 "nbformat": 4,
 "nbformat_minor": 2
}

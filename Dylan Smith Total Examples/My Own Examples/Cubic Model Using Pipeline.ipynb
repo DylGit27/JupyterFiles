{
 "cells": [
  {
   "cell_type": "code",
   "execution_count": 2,
   "metadata": {},
   "outputs": [
    {
     "data": {
      "image/png": "[encoded data removed]",
      "text/plain": [
       "<matplotlib.figure.Figure at 0x10ed08240>"
      ]
     },
     "metadata": {},
     "output_type": "display_data"
    },
    {
     "name": "stdout",
     "output_type": "stream",
     "text": [
      "0.943743942225\n",
      "---------K-Nearest Neighbors-------\n"
     ]
    },
    {
     "data": {
      "text/plain": [
       "KNeighborsRegressor(algorithm='auto', leaf_size=30, metric='minkowski',\n",
       "          metric_params=None, n_jobs=1, n_neighbors=3, p=2,\n",
       "          weights='uniform')"
      ]
     },
     "execution_count": 2,
     "metadata": {},
     "output_type": "execute_result"
    }
   ],
   "source": [
    "import mglearn\n",
    "import numpy as np\n",
    "from sklearn import linear_model\n",
    "from sklearn.linear_model import LinearRegression\n",
    "import matplotlib.pyplot as plt\n",
    "from sklearn.preprocessing import PolynomialFeatures\n",
    "from sklearn.pipeline import Pipeline\n",
    "from sklearn.neighbors import KNeighborsClassifier\n",
    "\n",
    "# Generate sample data\n",
    "X = np.sort(5*np.random.rand(40,1), axis=0)\n",
    "y = X**3\n",
    "y=y.ravel()\n",
    "\n",
    "# Add noise to targets\n",
    "X[::4] +=(0.5 - np.random.rand(1))\n",
    "y[::5] +=(0.5 - np.random.rand(8))\n",
    "\n",
    "a=np.array(X)\n",
    "b=np.array(y)\n",
    "\n",
    "X_train=a[:19]\n",
    "X_test=a[19:]\n",
    "y_train=b[:19]\n",
    "y_test=b[19:]\n",
    "\n",
    "model=Pipeline([('poly', PolynomialFeatures(degree=3)),('linear', LinearRegression(fit_intercept=False))])\n",
    "model=model.fit(X_train, y_train)\n",
    "pred=model.predict(X_test)\n",
    "\n",
    "\n",
    "poly=PolynomialFeatures(degree=3)\n",
    "poly.fit_transform(X_train, y_train)\n",
    "plt.scatter(X_test, y_test)\n",
    "plt.plot(X_test, pred, color='green')\n",
    "plt.show()\n",
    "\n",
    "print (model.score(X_test,y_test))\n",
    "\n",
    "print (\"---------K-Nearest Neighbors-------\")\n",
    "\"\"\"neighbors_settings=range(1,11)\n",
    "for n_neighbors in neighbors_settings:\n",
    "    clf=KNeighborsClassifier(n_neighbors=n_neighbors)\n",
    "    clf.fit(X_train, y_train)\n",
    "    training_accuracy.append(clf.score(X_train, y_train))\n",
    "    test_accuracy.append(clf.score(X_test, y_test))\n",
    "\n",
    "\n",
    "print (mglearn.plots.plot_knn_regression(n_neighbors=3))\"\"\"\n",
    "\n",
    "from sklearn.neighbors import KNeighborsRegressor\n",
    "\n",
    "X, y=mglearn.datasets.make_wave(n_samples=40)\n",
    "reg = KNeighborsRegressor(n_neighbors=3)\n",
    "reg.fit(X_train, y_train)"
   ]
  },
  {
   "cell_type": "code",
   "execution_count": null,
   "metadata": {
    "collapsed": true
   },
   "outputs": [],
   "source": []
  },
  {
   "cell_type": "code",
   "execution_count": null,
   "metadata": {
    "collapsed": true
   },
   "outputs": [],
   "source": []
  }
 ],
 "metadata": {
  "kernelspec": {
   "display_name": "Python 3",
   "language": "python",
   "name": "python3"
  },
  "language_info": {
   "codemirror_mode": {
    "name": "ipython",
    "version": 3
   },
   "file_extension": ".py",
   "mimetype": "text/x-python",
   "name": "python",
   "nbconvert_exporter": "python",
   "pygments_lexer": "ipython3",
   "version": "3.6.3"
  }
 },
 "nbformat": 4,
 "nbformat_minor": 2
}

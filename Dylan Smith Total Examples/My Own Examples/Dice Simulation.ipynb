{
 "cells": [
  {
   "cell_type": "code",
   "execution_count": 78,
   "metadata": {},
   "outputs": [
    {
     "data": {
      "image/png": "[encoded data removed]",
      "text/plain": [
       "<matplotlib.figure.Figure at 0x10f2090b8>"
      ]
     },
     "metadata": {},
     "output_type": "display_data"
    },
    {
     "data": {
      "text/plain": [
       "'def simple_wager(wage):\\n    turn=rollDice()\\n    while wage>0:\\n        if turn>=2 and turn<4:\\n            wage=wa\\n            print(wage)\\n        elif turn>=4 and turn<=10:\\n            wage-=200\\n            print(wage)\\n        elif turn>10:\\n            wage+=20\\n            print(wage)\\n        \\nprint (simple_wager(100))'"
      ]
     },
     "execution_count": 78,
     "metadata": {},
     "output_type": "execute_result"
    }
   ],
   "source": [
    "import random\n",
    "import numpy as np\n",
    "import matplotlib.pyplot as plt\n",
    "\n",
    "def rollDice():\n",
    "    roll1 = random.randint(1,6)\n",
    "    roll2 = random.randint(1,6)\n",
    "    return roll1+roll2\n",
    "\n",
    "x = 0\n",
    "nums=[]\n",
    "while x < 1000:\n",
    "    result = rollDice()\n",
    "    nums.append(result)\n",
    "    x+=1\n",
    "plt.hist(nums, rwidth=0.75, bins=12)\n",
    "plt.title(\"Sum of Rolling Two Dice\")\n",
    "plt.xlabel(\"Value\")\n",
    "plt.ylabel(\"Frequency\")\n",
    "plt.show()\n",
    "\n",
    "\"\"\"def simple_wager(wage):\n",
    "    turn=rollDice()\n",
    "    while wage>0:\n",
    "        if turn>=2 and turn<4:\n",
    "            wage=wa\n",
    "            print(wage)\n",
    "        elif turn>=4 and turn<=10:\n",
    "            wage-=200\n",
    "            print(wage)\n",
    "        elif turn>10:\n",
    "            wage+=20\n",
    "            print(wage)\n",
    "        \n",
    "print (simple_wager(100))\"\"\""
   ]
  },
  {
   "cell_type": "code",
   "execution_count": null,
   "metadata": {
    "collapsed": true
   },
   "outputs": [],
   "source": []
  }
 ],
 "metadata": {
  "kernelspec": {
   "display_name": "Python 3",
   "language": "python",
   "name": "python3"
  }
 },
 "nbformat": 4,
 "nbformat_minor": 2
}

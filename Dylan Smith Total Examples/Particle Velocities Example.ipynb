{
 "cells": [
  {
   "cell_type": "code",
   "execution_count": 6,
   "metadata": {},
   "outputs": [
    {
     "name": "stdout",
     "output_type": "stream",
     "text": [
      "1.0110879714152359 2.0438571782842976\n",
      "[ 0.         -2.20094088 -1.2269051  -0.59549218  0.          0.\n",
      " -0.00602718 -1.63131177 -1.41018017 -0.19538782  0.         -0.29048766\n",
      "  0.18375465  1.12350786 -0.06959351  0.          0.          0.\n",
      "  0.25167654  0.        ]\n",
      "(63014, 1) (63014,)\n"
     ]
    },
    {
     "data": {
      "image/png": "[encoded data removed]",
      "text/plain": [
       "<matplotlib.figure.Figure at 0x10a1bb198>"
      ]
     },
     "metadata": {},
     "output_type": "display_data"
    },
    {
     "data": {
      "image/png": "[encoded data removed]",
      "text/plain": [
       "<matplotlib.figure.Figure at 0x1a129d77f0>"
      ]
     },
     "metadata": {},
     "output_type": "display_data"
    },
    {
     "data": {
      "image/png": "[encoded data removed]",
      "text/plain": [
       "<matplotlib.figure.Figure at 0x1119b1e80>"
      ]
     },
     "metadata": {},
     "output_type": "display_data"
    }
   ],
   "source": [
    "# Program to test the Metropolis algorithm with one particle at given temp in\n",
    "# one dimension\n",
    "#!/usr/bin/env python\n",
    "import numpy as np\n",
    "import matplotlib.mlab as mlab\n",
    "import matplotlib.pyplot as plt\n",
    "import random\n",
    "from math import sqrt, exp, log\n",
    "from sklearn.preprocessing import PolynomialFeatures\n",
    "from sklearn.linear_model import LinearRegression\n",
    "# initialize the rng with a seed\n",
    "random.seed()\n",
    "# Hard coding of input parameters\n",
    "MCcycles = 100000\n",
    "Temperature = 2.0\n",
    "beta = 1./Temperature\n",
    "InitialVelocity = -2.0\n",
    "CurrentVelocity = InitialVelocity\n",
    "Energy = 0.5*InitialVelocity*InitialVelocity\n",
    "VelocityRange = 10*sqrt(Temperature)\n",
    "VelocityStep = 2*VelocityRange/10.\n",
    "AverageEnergy = Energy\n",
    "AverageEnergy2 = Energy*Energy\n",
    "VelocityValues = np.zeros(MCcycles)\n",
    "# The Monte Carlo sampling with Metropolis starts here\n",
    "for i in range (1, MCcycles, 1):\n",
    "    TrialVelocity = CurrentVelocity + (2.0*random.random() - 1.0)*VelocityStep\n",
    "    EnergyChange = 0.5*(TrialVelocity*TrialVelocity -CurrentVelocity*CurrentVelocity);\n",
    "    if random.random() <= exp(-beta*EnergyChange):\n",
    "        CurrentVelocity = TrialVelocity\n",
    "        Energy += EnergyChange\n",
    "        VelocityValues[i] = CurrentVelocity\n",
    "    AverageEnergy += Energy\n",
    "    AverageEnergy2 += Energy*Energy\n",
    "#Final averages\n",
    "AverageEnergy = AverageEnergy/MCcycles\n",
    "AverageEnergy2 = AverageEnergy2/MCcycles\n",
    "Variance = AverageEnergy2 - AverageEnergy*AverageEnergy\n",
    "print(AverageEnergy, Variance)\n",
    "n, bins, patches = plt.hist(VelocityValues, 400, facecolor='green')\n",
    "\n",
    "plt.xlabel('$v$')\n",
    "plt.ylabel('Velocity distribution P(v)')\n",
    "plt.title(r'Velocity histogram at $k_BT=2$')\n",
    "plt.axis([-5, 5, 0, 600])\n",
    "plt.grid(True)\n",
    "from collections import Counter\n",
    "\n",
    "#print (Counter(VelocityValues))\n",
    "\n",
    "print (VelocityValues[:20])\n",
    "VelocityValues=list(Counter(VelocityValues).keys())\n",
    "d=list(Counter(VelocityValues).values())\n",
    "\n",
    "VelocityValues=np.asarray(VelocityValues)[:, np.newaxis]\n",
    "d=np.asarray(d)\n",
    "print (VelocityValues.shape, d.shape)\n",
    "\n",
    "plt.scatter(VelocityValues, d)\n",
    "plt.show()\n",
    "\n",
    "#2nd Degree Polynomial\n",
    "poly_feat=PolynomialFeatures(degree=20, include_bias=False)\n",
    "X_poly=poly_feat.fit_transform(VelocityValues)\n",
    "lin_reg=LinearRegression()\n",
    "poly_fit=lin_reg.fit(X_poly,d)\n",
    "\n",
    "y_plot=poly_fit.predict(X_poly)\n",
    "plt.title(\"Polynomial Fit\")\n",
    "plt.plot(VelocityValues, y_plot, color='black', label=\"Fit\")\n",
    "plt.show()\n",
    "\n",
    "#Decision Trees\n",
    "\n",
    "from sklearn.tree import DecisionTreeRegressor\n",
    "regr_1=DecisionTreeRegressor(max_depth=2)\n",
    "regr_2=DecisionTreeRegressor(max_depth=5)\n",
    "regr_3=DecisionTreeRegressor(max_depth=7)\n",
    "regr_1.fit(VelocityValues, d)\n",
    "regr_2.fit(VelocityValues, d)\n",
    "regr_3.fit(VelocityValues, d)\n",
    "\n",
    "X_test = np.arange(0.0, MCcycles, 0.01)[:, np.newaxis]\n",
    "y_1=regr_1.predict(X_test)\n",
    "y_2=regr_2.predict(X_test)\n",
    "y_3=regr_3.predict(X_test)\n",
    "\n",
    "plt.title(\"Decision Tree\")\n",
    "plt.plot(X_test, y_1, color=\"red\", label=\"max_depth=2\", linewidth=2)\n",
    "plt.plot(X_test, y_2, color=\"green\", label=\"max_depth=5\", linewidth=2)\n",
    "plt.plot(X_test, y_3, color=\"m\", label=\"max_depth=7\", linewidth=2)\n",
    "plt.show()\n",
    "\n",
    "#Separate each frequency not in one specific velocity, but in a range of values,\n",
    "#i.e. frequency of all velocities in range -5 to -4.9, -4.9 to -4.8, etc..."
   ]
  },
  {
   "cell_type": "code",
   "execution_count": null,
   "metadata": {},
   "outputs": [],
   "source": []
  },
  {
   "cell_type": "code",
   "execution_count": null,
   "metadata": {
    "collapsed": true
   },
   "outputs": [],
   "source": []
  }
 ],
 "metadata": {
  "kernelspec": {
   "display_name": "Python 3",
   "language": "python",
   "name": "python3"
  },
  "language_info": {
   "codemirror_mode": {
    "name": "ipython",
    "version": 3
   },
   "file_extension": ".py",
   "mimetype": "text/x-python",
   "name": "python",
   "nbconvert_exporter": "python",
   "pygments_lexer": "ipython3",
   "version": "3.6.3"
  }
 },
 "nbformat": 4,
 "nbformat_minor": 2
}

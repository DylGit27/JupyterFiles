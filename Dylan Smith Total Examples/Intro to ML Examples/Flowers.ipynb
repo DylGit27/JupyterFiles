{
 "cells": [
  {
   "cell_type": "code",
   "execution_count": 2,
   "metadata": {},
   "outputs": [
    {
     "name": "stdout",
     "output_type": "stream",
     "text": [
      "[0 0 0 0 0 0 0 0 0 0 0 0 0 0 0 0 0 0 0 0 0 0 0 0 0 0 0 0 0 0 0 0 0 0 0 0 0\n",
      " 0 0 0 0 0 0 0 0 0 0 0 0 0 1 1 1 1 1 1 1 1 1 1 1 1 1 1 1 1 1 1 1 1 1 1 1 1\n",
      " 1 1 1 1 1 1 1 1 1 1 1 1 1 1 1 1 1 1 1 1 1 1 1 1 1 1 2 2 2 2 2 2 2 2 2 2 2\n",
      " 2 2 2 2 2 2 2 2 2 2 2 2 2 2 2 2 2 2 2 2 2 2 2 2 2 2 2 2 2 2 2 2 2 2 2 2 2\n",
      " 2 2]\n",
      "KNeighborsClassifier(algorithm='auto', leaf_size=30, metric='minkowski',\n",
      "           metric_params=None, n_jobs=1, n_neighbors=1, p=2,\n",
      "           weights='uniform')\n",
      "Iris 1 is a ['setosa']\n",
      "Iris 2 is a ['setosa']\n",
      "-----------------LASSO---------------------\n",
      "training set score: 0.464937\n",
      "test set score: 0.430838\n",
      "number of features used: 4\n",
      "---------------SVC AND LOGISTIC REGRESSION-----------\n"
     ]
    },
    {
     "data": {
      "image/png": "[encoded data removed]",
      "text/plain": [
       "<matplotlib.figure.Figure at 0x1c1ef4f940>"
      ]
     },
     "metadata": {},
     "output_type": "display_data"
    },
    {
     "name": "stdout",
     "output_type": "stream",
     "text": [
      "----------Multi-Class Uncertainty-------\n",
      "(38, 3)\n",
      "[[-0.50692424 -0.53347791  1.53022838]\n",
      " [-0.51151707  1.50574741 -0.48234855]\n",
      " [ 1.51897822 -0.53079866 -0.48146442]\n",
      " [-0.50756256 -0.53347791  1.53022838]\n",
      " [ 1.51897822 -0.53079866 -0.48146442]\n",
      " [-0.50985911 -0.53347791  1.53022838]]\n",
      "[2 1 0 2 0 2 0 1 1 1 2 1 1 1 1 0 1 1 0 0 2 1 0 0 2 0 0 1 1 0 2 1 0 2 2 1 0\n",
      " 2]\n",
      "[2 1 0 2 0 2 0 1 1 1 2 1 1 1 1 0 1 1 0 0 2 1 0 0 2 0 0 1 1 0 2 1 0 2 2 1 0\n",
      " 2]\n",
      "[[ 0.10370714  0.10098957  0.79530329]\n",
      " [ 0.10474133  0.7874172   0.10784147]\n",
      " [ 0.79111482  0.10186682  0.10701837]\n",
      " [ 0.10364782  0.10099625  0.79535593]\n",
      " [ 0.79111482  0.10186682  0.10701837]\n",
      " [ 0.10343465  0.10102027  0.79554508]]\n"
     ]
    }
   ],
   "source": [
    "import mglearn\n",
    "import pandas as pd\n",
    "import matplotlib.pyplot as plt\n",
    "import numpy as np\n",
    "import IPython\n",
    "import sklearn\n",
    "from sklearn.datasets import load_iris\n",
    "iris=load_iris()\n",
    "\n",
    "print (iris['target'])\n",
    "\n",
    "from sklearn.model_selection import train_test_split\n",
    "X_train, X_test, y_train, y_test=train_test_split(iris['data'], iris['target'], random_state=0)\n",
    "\n",
    "from sklearn.neighbors import KNeighborsClassifier\n",
    "knn=KNeighborsClassifier(n_neighbors=1)\n",
    "\n",
    "print (knn.fit(X_train, y_train))\n",
    "X_new=np.array([[4.9,2.9,1,0.2]])\n",
    "X_new.shape\n",
    "\n",
    "X_new2=np.array([[5,3,2,0.5]])\n",
    "X_new2.shape\n",
    "prediction=knn.predict(X_new2)\n",
    "prediction2=knn.predict(X_new)\n",
    "\n",
    "print (\"Iris 1 is a \" +str(iris['target_names'][prediction]))\n",
    "print (\"Iris 2 is a \" +str(iris['target_names'][prediction2]))\n",
    "\n",
    "y_pred=knn.predict(X_test)\n",
    "np.mean(y_pred==y_test)\n",
    "print(\"-----------------LASSO---------------------\")\n",
    "from sklearn.linear_model import Lasso\n",
    "lasso = Lasso().fit(X_train, y_train)\n",
    "print(\"training set score: %f\" % lasso.score(X_train, y_train))\n",
    "print(\"test set score: %f\" % lasso.score(X_test, y_test))\n",
    "print(\"number of features used: %d\" % np.sum(lasso.coef_ != 3))\n",
    "\n",
    "\n",
    "print (\"---------------SVC AND LOGISTIC REGRESSION-----------\")\n",
    "\n",
    "from sklearn.linear_model import LogisticRegression\n",
    "from sklearn.svm import LinearSVC\n",
    "\n",
    "X, y=mglearn.datasets.make_forge()\n",
    "\n",
    "fig, axes= plt.subplots(1,2,figsize=(10,3))\n",
    "\n",
    "for model, ax in zip([LinearSVC(), LogisticRegression()], axes):\n",
    "    clf = model.fit(X, y)\n",
    "    mglearn.plots.plot_2d_separator(clf, X, fill=False, eps=0.5, ax=ax, alpha=.7)\n",
    "    ax.scatter(X[:, 0], X[:, 1], c=y, s=60, cmap=mglearn.cm2)\n",
    "    ax.set_title(\"%s\" % clf.__class__.__name__)\n",
    "plt.show()\n",
    "\n",
    "print (\"----------Multi-Class Uncertainty-------\")\n",
    "from sklearn.ensemble import GradientBoostingClassifier\n",
    "gbrt = GradientBoostingClassifier(learning_rate=0.01, random_state=0)\n",
    "gbrt.fit(X_train, y_train)\n",
    "GradientBoostingClassifier(init=None, learning_rate=0.01, loss='deviance',\n",
    "                max_depth=3, max_features=None, max_leaf_nodes=None,\n",
    "                min_samples_leaf=1, min_samples_split=2,\n",
    "                min_weight_fraction_leaf=0.0, n_estimators=100,\n",
    "                presort='auto', random_state=0, subsample=1.0, verbose=0,\n",
    "                warm_start=False)\n",
    "print(gbrt.decision_function(X_test).shape)\n",
    "# plot the first few entries of the decision function\n",
    "print(gbrt.decision_function(X_test)[:6, :])\n",
    "print(np.argmax(gbrt.decision_function(X_test), axis=1))\n",
    "print(gbrt.predict(X_test))\n",
    "# show the first few entries of predict_proba\n",
    "print(gbrt.predict_proba(X_test)[:6])"
   ]
  },
  {
   "cell_type": "code",
   "execution_count": null,
   "metadata": {
    "collapsed": true
   },
   "outputs": [],
   "source": []
  },
  {
   "cell_type": "code",
   "execution_count": null,
   "metadata": {
    "collapsed": true
   },
   "outputs": [],
   "source": []
  },
  {
   "cell_type": "code",
   "execution_count": null,
   "metadata": {
    "collapsed": true
   },
   "outputs": [],
   "source": []
  },
  {
   "cell_type": "code",
   "execution_count": null,
   "metadata": {
    "collapsed": true
   },
   "outputs": [],
   "source": []
  }
 ],
 "metadata": {
  "kernelspec": {
   "display_name": "Python 3",
   "language": "python",
   "name": "python3"
  },
  "language_info": {
   "codemirror_mode": {
    "name": "ipython",
    "version": 3
   },
   "file_extension": ".py",
   "mimetype": "text/x-python",
   "name": "python",
   "nbconvert_exporter": "python",
   "pygments_lexer": "ipython3",
   "version": "3.6.3"
  }
 },
 "nbformat": 4,
 "nbformat_minor": 2
}
